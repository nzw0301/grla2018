{
 "cells": [
  {
   "cell_type": "code",
   "execution_count": 1,
   "metadata": {},
   "outputs": [
    {
     "name": "stdout",
     "output_type": "stream",
     "text": [
      "Requirement already satisfied: tabulate in /usr/lib/python3.6/site-packages\r\n"
     ]
    }
   ],
   "source": [
    "!pip install tabulate\n",
    "from tabulate import tabulate\n",
    "import h5py\n",
    "import numpy as np\n",
    "import pandas as pd\n",
    "from glob import glob\n",
    "from collections import defaultdict"
   ]
  },
  {
   "cell_type": "code",
   "execution_count": 2,
   "metadata": {},
   "outputs": [],
   "source": [
    "def extract_model_key(param, is_directed, dname):\n",
    "    params = param.split('_')\n",
    "    model_key = None\n",
    "    if is_directed:\n",
    "        if 'line' in param:\n",
    "            if len(params) == 2:\n",
    "                if '1st' in param:\n",
    "                    model_key = 'LINE-1st'\n",
    "                else:\n",
    "                    model_key = 'LINE-2nd'\n",
    "\n",
    "        elif 'node2vec' in param:\n",
    "            if len(params) == 4:\n",
    "                model_key = 'node2vec'\n",
    "\n",
    "    elif dname in ['cora', 'pubmed']:\n",
    "        if 'spectral' in param:\n",
    "            model_key = 'Eigenmaps'\n",
    "        elif 'line' in param:\n",
    "            if len(params) != 2:\n",
    "                if '1st' in param:\n",
    "                    model_key = 'LINE-1st'\n",
    "                else:\n",
    "                    model_key = 'LINE-2nd'\n",
    "        elif 'node2vec' in param:\n",
    "            if len(params) != 4:\n",
    "                model_key = 'node2vec'\n",
    "    else: # blogcatalog & flicker\n",
    "        if 'spectral' in param:\n",
    "            model_key = 'Eigenmaps'\n",
    "        elif 'line' in param:\n",
    "            if '1st' in param:\n",
    "                model_key = 'LINE-1st'\n",
    "            else:\n",
    "                model_key = 'LINE-2nd'\n",
    "        elif 'node2vec' in param:\n",
    "            model_key = 'node2vec'\n",
    "\n",
    "    return model_key"
   ]
  },
  {
   "cell_type": "code",
   "execution_count": 3,
   "metadata": {},
   "outputs": [],
   "source": [
    "data_parent_dir = './../../../data/'\n",
    "table_data = []\n",
    "record_list = []"
   ]
  },
  {
   "cell_type": "code",
   "execution_count": 4,
   "metadata": {
    "scrolled": false
   },
   "outputs": [],
   "source": [
    "# Directed case\n",
    "directed_dnames = ['cora', 'pubmed']\n",
    "for dname in directed_dnames:\n",
    "    data_dir = data_parent_dir + dname + '/'\n",
    "    best_save_dicts = defaultdict(dict)\n",
    "    for model_name in ['LINE-1st', 'LINE-2nd', 'node2vec']:\n",
    "        best_save_dicts[model_name]['best_f1_score'] = 0.\n",
    "        best_save_dicts[model_name]['best_f1_scores_std'] = 0.\n",
    "        best_save_dicts[model_name]['best_f1_score_param'] = ''\n",
    "        best_save_dicts[model_name]['best_f1_score_incorrect_ids'] = []\n",
    "    h5_file_path_list = glob('{}/*.h5'.format(data_dir))\n",
    "    for h5_file_path in h5_file_path_list:\n",
    "        if 'spectral' in h5_file_path:\n",
    "            continue\n",
    "\n",
    "        results = h5py.File(h5_file_path)\n",
    "        results = results[list(results.keys())[0]]\n",
    "        param_list = list(results.keys())\n",
    "        for param in param_list:\n",
    "            model_key = extract_model_key(param=param, is_directed=True, dname=dname)\n",
    "            if not model_key:\n",
    "                continue\n",
    "                    \n",
    "            normalized_list = list(results[param].keys())\n",
    "            for normalized in normalized_list:\n",
    "                micro_f1_scores = results[param][normalized]['micro_f1_scores'][:]\n",
    "                micro_f1_score = np.mean(micro_f1_scores)\n",
    "                if best_save_dicts[model_key]['best_f1_score'] <  micro_f1_score:\n",
    "                    best_save_dicts[model_key]['best_f1_score'] = micro_f1_score\n",
    "                    best_save_dicts[model_key]['best_f1_scores_std'] = np.std(micro_f1_scores)\n",
    "                    best_save_dicts[model_key]['best_f1_score_incorrect_ids'] = results[param][normalized]['incorrect_ids'][:]\n",
    "                    best_save_dicts[model_key]['best_f1_score_param'] = param + ' ' + normalized\n",
    "    \n",
    "    if dname == 'pubmed':\n",
    "        dname = 'PubMed'\n",
    "    else:\n",
    "        dname = dname.capitalize()\n",
    "    table_record = [dname, 'Directed', '---', ]\n",
    "    for model_name, best_save_dict in best_save_dicts.items():\n",
    "        record = [dname,\n",
    "                  'Directed',\n",
    "                  model_name,                  \n",
    "                  best_save_dict['best_f1_score_param'],\n",
    "                  best_save_dict['best_f1_score'],\n",
    "                  best_save_dict['best_f1_scores_std'],\n",
    "                  ' '.join(map(str, np.sort(best_save_dict['best_f1_score_incorrect_ids'])))]\n",
    "        record_list.append(record)\n",
    "        table_record.append('{0:.3f}'.format(best_save_dict['best_f1_score']) + ' pm {0:.3f}'.format(best_save_dict['best_f1_scores_std']))\n",
    "    table_data.append(table_record)"
   ]
  },
  {
   "cell_type": "code",
   "execution_count": 5,
   "metadata": {
    "scrolled": false
   },
   "outputs": [],
   "source": [
    "# Undirected case\n",
    "directed_dnames = ['cora', 'pubmed', 'blogcatalog', 'flickr']\n",
    "for dname in directed_dnames:\n",
    "    data_dir = data_parent_dir + dname + '/'\n",
    "    best_save_dicts = defaultdict(dict)\n",
    "    for model_name in ['Eigenmaps', 'LINE-1st', 'LINE-2nd', 'node2vec']:\n",
    "        best_save_dicts[model_name]['best_f1_score'] = 0.\n",
    "        best_save_dicts[model_name]['best_f1_scores_std'] = 0.\n",
    "        best_save_dicts[model_name]['best_f1_score_param'] = ''\n",
    "        best_save_dicts[model_name]['best_f1_score_incorrect_ids'] = []\n",
    "    h5_file_path_list = glob('{}/*.h5'.format(data_dir))\n",
    "    for h5_file_path in h5_file_path_list:\n",
    "\n",
    "        results = h5py.File(h5_file_path)\n",
    "        results = results[list(results.keys())[0]]\n",
    "        param_list = list(results.keys())\n",
    "        for param in param_list:\n",
    "            model_key = extract_model_key(param=param, is_directed=False, dname=dname)\n",
    "            if not model_key:\n",
    "                continue\n",
    "\n",
    "            normalized_list = list(results[param].keys())\n",
    "            for normalized in normalized_list:\n",
    "                micro_f1_scores = results[param][normalized]['micro_f1_scores'][:]\n",
    "                micro_f1_score = np.mean(micro_f1_scores)\n",
    "                if best_save_dicts[model_key]['best_f1_score'] <  micro_f1_score:\n",
    "                    best_save_dicts[model_key]['best_f1_score'] = micro_f1_score\n",
    "                    best_save_dicts[model_key]['best_f1_scores_std'] = np.std(micro_f1_scores)\n",
    "                    best_save_dicts[model_key]['best_f1_score_incorrect_ids'] = results[param][normalized]['incorrect_ids'][:]\n",
    "                    best_save_dicts[model_key]['best_f1_score_param'] = param + ' ' + normalized\n",
    "\n",
    "    if dname == 'pubmed':\n",
    "        dname = 'uPubMed'\n",
    "    elif dname == 'blogcatalog':\n",
    "        dname = 'BlogCatalog'\n",
    "    elif dname == 'cora':\n",
    "        dname = 'uCora'\n",
    "    else:\n",
    "        dname = dname.capitalize()\n",
    "        \n",
    "    table_record = [dname, 'Undirected']\n",
    "    \n",
    "    for model_name, best_save_dict in best_save_dicts.items():\n",
    "        record = [dname,\n",
    "                  'Undirected',\n",
    "                  model_name,                  \n",
    "                  best_save_dict['best_f1_score_param'],\n",
    "                  best_save_dict['best_f1_score'],\n",
    "                  best_save_dict['best_f1_scores_std'],\n",
    "                  ' '.join(map(str, np.sort(best_save_dict['best_f1_score_incorrect_ids'])))]\n",
    "        \n",
    "        record_list.append(record)\n",
    "        f1_score_str = '{0:.3f}'.format(best_save_dict['best_f1_score'])\n",
    "        table_record.append(f1_score_str + ' pm {:.3f}'.format(best_save_dict['best_f1_scores_std']))\n",
    "    table_data.append(table_record)\n"
   ]
  },
  {
   "cell_type": "code",
   "execution_count": 6,
   "metadata": {},
   "outputs": [],
   "source": [
    "table = tabulate(table_data,\n",
    "                 headers=['Dataset', 'Edge', 'Eigenmaps', 'LINE-1st', 'LINE-2nd', 'node2vec'],\n",
    "                 tablefmt='latex_booktabs'\n",
    "                )"
   ]
  },
  {
   "cell_type": "code",
   "execution_count": 7,
   "metadata": {},
   "outputs": [
    {
     "name": "stdout",
     "output_type": "stream",
     "text": [
      "\\begin{table*}[t]\n",
      "  \\caption{Micro F1 score (averaged on 5 validation folds) of multi-class classification.\\label{tb:best-result}}\n",
      "  \\centering\n",
      "\\begin{tabular}{cccccc}\n",
      "\\toprule\n",
      " Dataset     & Edge       & Eigenmaps      & LINE-1st       & LINE-2nd       & node2vec       \\\\\n",
      "\\midrule\n",
      " Cora        & Directed   & ---            & 0.805 $\\pm$ 0.015 & 0.545 $\\pm$ 0.023 & 0.357 $\\pm$ 0.005 \\\\\n",
      " PubMed      & Directed   & ---            & 0.786 $\\pm$ 0.004 & 0.618 $\\pm$ 0.011 & 0.531 $\\pm$ 0.008 \\\\\n",
      " uCora       & Undirected & 0.861 $\\pm$ 0.016 & 0.818 $\\pm$ 0.010 & 0.804 $\\pm$ 0.014 & 0.837 $\\pm$ 0.019 \\\\\n",
      " uPubMed     & Undirected & 0.818 $\\pm$ 0.003 & 0.791 $\\pm$ 0.006 & 0.785 $\\pm$ 0.003 & 0.814 $\\pm$ 0.009 \\\\\n",
      " BlogCatalog & Undirected & 0.390 $\\pm$ 0.012 & 0.362 $\\pm$ 0.009 & 0.354 $\\pm$ 0.007 & 0.348 $\\pm$ 0.008 \\\\\n",
      " Flickr      & Undirected & 0.000 $\\pm$ 0.000 & 0.363 $\\pm$ 0.002 & 0.360 $\\pm$ 0.001 & 0.328 $\\pm$ 0.001 \\\\\n",
      "\\bottomrule\n",
      "\\end{tabular}\n",
      "\\end{table*}\n"
     ]
    }
   ],
   "source": [
    "print('\\\\begin{table*}[t]\\n  \\caption{Micro F1 score (averaged on 5 validation folds) of multi-class classification.\\label{tb:best-result}}\\n  \\centering')\n",
    "print(table.replace('pm', '$\\pm$').replace('llllll', 'c'*6))\n",
    "print('\\\\end{table*}')"
   ]
  },
  {
   "cell_type": "code",
   "execution_count": 8,
   "metadata": {},
   "outputs": [],
   "source": [
    "df = pd.DataFrame(data=record_list, columns=['dataset', 'direction', 'model', 'param', 'micro f1', 'std', 'incorrect_ids'])\n",
    "df.to_csv(data_parent_dir + 'best_result.tsv', sep='\\t', index=False)"
   ]
  },
  {
   "cell_type": "code",
   "execution_count": null,
   "metadata": {},
   "outputs": [],
   "source": []
  }
 ],
 "metadata": {
  "kernelspec": {
   "display_name": "Python 3",
   "language": "python",
   "name": "python3"
  },
  "language_info": {
   "codemirror_mode": {
    "name": "ipython",
    "version": 3
   },
   "file_extension": ".py",
   "mimetype": "text/x-python",
   "name": "python",
   "nbconvert_exporter": "python",
   "pygments_lexer": "ipython3",
   "version": "3.6.2"
  }
 },
 "nbformat": 4,
 "nbformat_minor": 2
}
